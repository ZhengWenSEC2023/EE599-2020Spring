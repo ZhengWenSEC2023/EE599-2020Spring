{
 "cells": [
  {
   "cell_type": "markdown",
   "metadata": {},
   "source": [
    "# Problem_1"
   ]
  },
  {
   "cell_type": "code",
   "execution_count": 6,
   "metadata": {},
   "outputs": [
    {
     "name": "stdout",
     "output_type": "stream",
     "text": [
      "correctly classified: 9790\n"
     ]
    }
   ],
   "source": [
    "#!/usr/bin/env python3\n",
    "# -*- coding: utf-8 -*-\n",
    "\"\"\"\n",
    "Created on Sun Feb  9 16:42:01 2020\n",
    "\n",
    "@author: zheng\n",
    "\"\"\"\n",
    "import h5py\n",
    "import numpy as np\n",
    "import matplotlib.pyplot as plt\n",
    "\n",
    "def ReLU(x):\n",
    "    return np.maximum(x, 0)\n",
    "\n",
    "def Softmax(x):\n",
    "    return np.exp(x)/np.sum(np.exp(x), axis=1)[:,None]\n",
    "\n",
    "model = h5py.File('D:\\\\EE599\\\\HW2\\\\mnist_network_params.hdf5','r')\n",
    "W1 = model['W1'][:]\n",
    "W2 = model['W2'][:]\n",
    "W3 = model['W3'][:]\n",
    "b1 = model['b1'][:]\n",
    "b2 = model['b2'][:]\n",
    "b3 = model['b3'][:]\n",
    "data = h5py.File('D:\\\\EE599\\\\HW2\\\\mnist_testdata.hdf5','r')\n",
    "xdata = data['xdata'][:]\n",
    "ydata = data['ydata'][:]\n",
    "\n",
    "hidden1 = ReLU(xdata@W1.T + b1)\n",
    "hidden2 = ReLU(hidden1@W2.T + b2)\n",
    "output = Softmax(hidden2@W3.T + b3)\n",
    "pred = np.argmax(output, axis=1)\n",
    "fact = np.argmax(ydata, axis=1)\n",
    "correct = sum(pred == fact)\n",
    "\n",
    "print('correctly classified:', correct)"
   ]
  },
  {
   "cell_type": "code",
   "execution_count": 7,
   "metadata": {},
   "outputs": [
    {
     "name": "stdout",
     "output_type": "stream",
     "text": [
      "real label is: 5\n",
      "predict label is: 6\n"
     ]
    },
    {
     "data": {
      "image/png": "[encoded data removed]",
      "text/plain": [
       "<Figure size 432x288 with 1 Axes>"
      ]
     },
     "metadata": {
      "needs_background": "light"
     },
     "output_type": "display_data"
    }
   ],
   "source": [
    "wrong_img = np.squeeze(xdata[np.where(pred != fact), :])\n",
    "real_label = fact[np.where(pred != fact)]\n",
    "pred_label = pred[np.where(pred != fact)]\n",
    "\n",
    "plt.imshow(wrong_img[0].reshape(28,28))\n",
    "print('real label is:', real_label[0])\n",
    "print('predict label is:', pred_label[0])\n",
    "plt.show()"
   ]
  },
  {
   "cell_type": "code",
   "execution_count": 8,
   "metadata": {},
   "outputs": [
    {
     "name": "stdout",
     "output_type": "stream",
     "text": [
      "real label is: 4\n",
      "predict label is: 9\n"
     ]
    },
    {
     "data": {
      "image/png": "[encoded data removed]",
      "text/plain": [
       "<Figure size 432x288 with 1 Axes>"
      ]
     },
     "metadata": {
      "needs_background": "light"
     },
     "output_type": "display_data"
    }
   ],
   "source": [
    "plt.imshow(wrong_img[0].reshape(28,28))\n",
    "print('real label is:', real_label[1])\n",
    "print('predict label is:', pred_label[1])\n",
    "plt.show()"
   ]
  },
  {
   "cell_type": "markdown",
   "metadata": {},
   "source": [
    "(f) The first image shown above is 5, I cannot recognize it. But I do think the second one is 4"
   ]
  }
 ],
 "metadata": {
  "kernelspec": {
   "display_name": "Python 3",
   "language": "python",
   "name": "python3"
  },
  "language_info": {
   "codemirror_mode": {
    "name": "ipython",
    "version": 3
   },
   "file_extension": ".py",
   "mimetype": "text/x-python",
   "name": "python",
   "nbconvert_exporter": "python",
   "pygments_lexer": "ipython3",
   "version": "3.7.6"
  }
 },
 "nbformat": 4,
 "nbformat_minor": 4
}
