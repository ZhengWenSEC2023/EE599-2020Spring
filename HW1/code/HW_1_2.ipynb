{
 "cells": [
  {
   "cell_type": "code",
   "execution_count": 2,
   "metadata": {},
   "outputs": [
    {
     "name": "stdout",
     "output_type": "stream",
     "text": [
      "[[8]\n",
      " [8]]\n"
     ]
    }
   ],
   "source": [
    "import numpy as np\n",
    "\n",
    "def ReLu(array):\n",
    "    [rows, cols] = array.shape\n",
    "\n",
    "    for i in range(rows):\n",
    "        for j in range(cols):\n",
    "            if array[i, j] <= 0:\n",
    "                array[i, j] = 0\n",
    "    return array\n",
    "\n",
    "x = [[1], [-1]]\n",
    "W1 = [[1, -2], [3, 4]]\n",
    "W2 = [[2, 2], [3, -3]]\n",
    "b1 = [[1], [0]]\n",
    "b2 = [[0], [-4]]\n",
    "\n",
    "x = np.array(x)\n",
    "W1 = np.array(W1)\n",
    "W2 = np.array(W2)\n",
    "b1 = np.array(b1)\n",
    "b2 = np.array(b2)\n",
    "\n",
    "l1 = ReLu(np.dot(W1, x) + b1) \n",
    "y = ReLu(np.dot(W2, l1) + b2)\n",
    "\n",
    "print(y)\n"
   ]
  }
 ],
 "metadata": {
  "kernelspec": {
   "display_name": "Python 3",
   "language": "python",
   "name": "python3"
  },
  "language_info": {
   "codemirror_mode": {
    "name": "ipython",
    "version": 3
   },
   "file_extension": ".py",
   "mimetype": "text/x-python",
   "name": "python",
   "nbconvert_exporter": "python",
   "pygments_lexer": "ipython3",
   "version": "3.7.4"
  }
 },
 "nbformat": 4,
 "nbformat_minor": 2
}
